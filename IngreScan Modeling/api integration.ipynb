{
 "cells": [
  {
   "cell_type": "code",
   "execution_count": null,
   "id": "6889f2cf-402c-4113-9d6f-89e3484388b1",
   "metadata": {},
   "outputs": [
    {
     "name": "stdout",
     "output_type": "stream",
     "text": [
      " * Serving Flask app '__main__'\n",
      " * Debug mode: off\n"
     ]
    },
    {
     "name": "stderr",
     "output_type": "stream",
     "text": [
      "WARNING: This is a development server. Do not use it in a production deployment. Use a production WSGI server instead.\n",
      " * Running on http://127.0.0.1:5000\n",
      "Press CTRL+C to quit\n",
      "127.0.0.1 - - [20/Apr/2025 14:10:40] \"POST /predict HTTP/1.1\" 200 -\n"
     ]
    }
   ],
   "source": [
    "from flask import Flask, request, jsonify\n",
    "import joblib\n",
    "import numpy as np\n",
    "from flask_cors import CORS\n",
    "\n",
    "app = Flask(__name__)\n",
    "CORS(app) \n",
    "model = joblib.load('risk_predictor_model.pkl')\n",
    "scaler = joblib.load('scaler.pkl')  # if used\n",
    "harmful_expl = joblib.load('additive_expl_dict.pkl')\n",
    "\n",
    "@app.route('/predict', methods=['POST'])\n",
    "def predict():\n",
    "    data = request.json\n",
    "    features = np.array(data['features']).reshape(1, -1)\n",
    "    # features = scaler.transform(features) if used\n",
    "    pred = model.predict(features)[0]\n",
    "    \n",
    "    additives = data.get('additives', [])\n",
    "    explanations = [harmful_expl.get(add.lower(), \"\") for add in additives]\n",
    "\n",
    "    return jsonify({'risk_category': int(pred), 'explanations': explanations})\n",
    "\n",
    "app.run()\n"
   ]
  },
  {
   "cell_type": "code",
   "execution_count": null,
   "id": "3b40f52d-c941-44cf-9fcd-ab8df994a4fb",
   "metadata": {},
   "outputs": [],
   "source": [
    "//curl -X POST http://172.20.10.13:5000/predict -H \"Content-Type: application/json\"  -d \"{\\\"ingredients\\\": \\\"water, calcium, e129, carrageenan\\\"}\""
   ]
  }
 ],
 "metadata": {
  "kernelspec": {
   "display_name": "Python 3 (ipykernel)",
   "language": "python",
   "name": "python3"
  },
  "language_info": {
   "codemirror_mode": {
    "name": "ipython",
    "version": 3
   },
   "file_extension": ".py",
   "mimetype": "text/x-python",
   "name": "python",
   "nbconvert_exporter": "python",
   "pygments_lexer": "ipython3",
   "version": "3.11.7"
  }
 },
 "nbformat": 4,
 "nbformat_minor": 5
}
