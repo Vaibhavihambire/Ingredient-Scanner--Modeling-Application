{
 "cells": [
  {
   "cell_type": "code",
   "execution_count": 1,
   "id": "589b4f77-9eba-433c-917c-43b06ebf2812",
   "metadata": {},
   "outputs": [
    {
     "data": {
      "text/html": [
       "<div>\n",
       "<style scoped>\n",
       "    .dataframe tbody tr th:only-of-type {\n",
       "        vertical-align: middle;\n",
       "    }\n",
       "\n",
       "    .dataframe tbody tr th {\n",
       "        vertical-align: top;\n",
       "    }\n",
       "\n",
       "    .dataframe thead th {\n",
       "        text-align: right;\n",
       "    }\n",
       "</style>\n",
       "<table border=\"1\" class=\"dataframe\">\n",
       "  <thead>\n",
       "    <tr style=\"text-align: right;\">\n",
       "      <th></th>\n",
       "      <th>Product Name</th>\n",
       "      <th>Barcode</th>\n",
       "      <th>Common Name</th>\n",
       "      <th>Packaging</th>\n",
       "      <th>Brands</th>\n",
       "      <th>Categories</th>\n",
       "      <th>Countries where sold</th>\n",
       "      <th>Nutri-Score</th>\n",
       "      <th>Nutri-Score Quality</th>\n",
       "      <th>NOVA Group</th>\n",
       "      <th>Food Processing</th>\n",
       "      <th>Eco-Score</th>\n",
       "      <th>Packaging Impact</th>\n",
       "      <th>Nutrient Levels</th>\n",
       "      <th>Ingredients</th>\n",
       "      <th>Additives</th>\n",
       "      <th>Ingredient Analysis</th>\n",
       "    </tr>\n",
       "  </thead>\n",
       "  <tbody>\n",
       "    <tr>\n",
       "      <th>0</th>\n",
       "      <td>Redbull - Red Bull - 1</td>\n",
       "      <td>9.016260e+07</td>\n",
       "      <td>Energy Drink</td>\n",
       "      <td>Can, Aluminium-can</td>\n",
       "      <td>Red Bull</td>\n",
       "      <td>Beverages, Carbonated drinks, Sodas, Energy drinks, Sweetened beverages, Carbonated Sodas</td>\n",
       "      <td>Australia, Egypt, France, India, Ireland, Morocco, Tunisia, United Kingdom, United States</td>\n",
       "      <td>Nutri-Score E</td>\n",
       "      <td>Bad nutritional quality</td>\n",
       "      <td>NOVA 4</td>\n",
       "      <td>Ultra processed foods</td>\n",
       "      <td>Eco-Score not yet applicable</td>\n",
       "      <td>NaN</td>\n",
       "      <td>Fat in low quantity (0%); Sugars in high quantity (11%); Salt in moderate quantity (0.198%)</td>\n",
       "      <td>Carbonated Water, Sugar, Glucose, Citric Acid, Taurine, Natural flavors, Artificial Flavors, Sodium Bicarbonate, Magnesium Carbonate, Artificial Colors, Caffeine, Niacinamide, Pyridoxine Hci, Calcium Pantothenate, Vitamin B12.</td>\n",
       "      <td>E330 - Citric acid; E500 - Sodium carbonates; E500ii - Sodium hydrogen carbonate</td>\n",
       "      <td>Palm oil free; Vegan status unknown; Vegetarian status unknown</td>\n",
       "    </tr>\n",
       "    <tr>\n",
       "      <th>1</th>\n",
       "      <td>Tomato Ketchup - Heinz - 400 ml / 460 g</td>\n",
       "      <td>8.715725e+07</td>\n",
       "      <td>NaN</td>\n",
       "      <td>Bottle, de:flasche(n)</td>\n",
       "      <td>Heinz</td>\n",
       "      <td>Condiments, Sauces, Tomato sauces, Ketchup, Tomato Ketchup</td>\n",
       "      <td>Belgium, Estonia, France, Germany, India, Italy, Netherlands, New Caledonia, Portugal, Spain, Switzerland</td>\n",
       "      <td>Nutri-Score D</td>\n",
       "      <td>Poor nutritional quality</td>\n",
       "      <td>NOVA 3</td>\n",
       "      <td>Processed foods</td>\n",
       "      <td>Eco-Score B</td>\n",
       "      <td>NaN</td>\n",
       "      <td>Fat in low quantity (0.1%); Saturated fat in low quantity (0.1%); Sugars in high quantity (22.8%); Salt in high quantity (1.8%)</td>\n",
       "      <td>tomato (148 g per 100 g), vinegar, sugar, salt, extracts of spices and herbs (contains celery ), spice</td>\n",
       "      <td>NaN</td>\n",
       "      <td>Palm oil free; Vegan; Vegetarian</td>\n",
       "    </tr>\n",
       "    <tr>\n",
       "      <th>2</th>\n",
       "      <td>Diet coke - The Coca-Cola Company - 500 ml</td>\n",
       "      <td>5.449150e+07</td>\n",
       "      <td>NaN</td>\n",
       "      <td>Plastic, Bottle or vial, Bottle, Pet-bottle, Pet-cap</td>\n",
       "      <td>The Coca-Cola Company, Coca-Cola, Diet Coke, Tiffin Sandwiches</td>\n",
       "      <td>Beverages, Carbonated drinks, Artificially sweetened beverages, Sodas, Diet beverages, Unsweetened beverages, Colas, Diet sodas, Diet cola soft drink, Sweetened beverages</td>\n",
       "      <td>France, India, United Kingdom</td>\n",
       "      <td>Nutri-Score B</td>\n",
       "      <td>Good nutritional quality</td>\n",
       "      <td>NOVA 4</td>\n",
       "      <td>Ultra processed foods</td>\n",
       "      <td>Eco-Score not yet applicable</td>\n",
       "      <td>NaN</td>\n",
       "      <td>Fat in low quantity (0%); Saturated fat in low quantity (0%); Sugars in low quantity (0%); Salt in low quantity (0%)</td>\n",
       "      <td>csd water, caramel color, aspartame, phosphoric acid, potassium benzoate (to protect taste), natural flavors, citric acid, caffeine, contains phenylalaline water gazeifiée, caramel colour e150d, sweeteners : aspartame, acesulfame k, flavourings, natural caffeine, phosphoric acid, citric acid</td>\n",
       "      <td>E150c - Ammonia caramel; E150d - Sulphite ammonia caramel; E212 - Potassium benzoate; E330 - Citric acid; E338 - Phosphoric acid; E950 - Acesulfame k; E951 - Aspartame</td>\n",
       "      <td>Palm oil free; Vegan status unknown; Vegetarian status unknown</td>\n",
       "    </tr>\n",
       "    <tr>\n",
       "      <th>3</th>\n",
       "      <td>Cassonade Saint Louis</td>\n",
       "      <td>2.112346e+12</td>\n",
       "      <td>NaN</td>\n",
       "      <td>NaN</td>\n",
       "      <td>NaN</td>\n",
       "      <td>NaN</td>\n",
       "      <td>India</td>\n",
       "      <td>Nutri-Score unknown</td>\n",
       "      <td>Missing data to compute the Nutri-Score</td>\n",
       "      <td>NOVA not computed</td>\n",
       "      <td>Food processing level unknown</td>\n",
       "      <td>Eco-Score not computed</td>\n",
       "      <td>NaN</td>\n",
       "      <td>NaN</td>\n",
       "      <td>NaN</td>\n",
       "      <td>NaN</td>\n",
       "      <td>NaN</td>\n",
       "    </tr>\n",
       "  </tbody>\n",
       "</table>\n",
       "</div>"
      ],
      "text/plain": [
       "                                 Product Name       Barcode   Common Name  \\\n",
       "0                      Redbull - Red Bull - 1  9.016260e+07  Energy Drink   \n",
       "1     Tomato Ketchup - Heinz - 400 ml / 460 g  8.715725e+07           NaN   \n",
       "2  Diet coke - The Coca-Cola Company - 500 ml  5.449150e+07           NaN   \n",
       "3                       Cassonade Saint Louis  2.112346e+12           NaN   \n",
       "\n",
       "                                              Packaging  \\\n",
       "0                                    Can, Aluminium-can   \n",
       "1                                 Bottle, de:flasche(n)   \n",
       "2  Plastic, Bottle or vial, Bottle, Pet-bottle, Pet-cap   \n",
       "3                                                   NaN   \n",
       "\n",
       "                                                           Brands  \\\n",
       "0                                                        Red Bull   \n",
       "1                                                           Heinz   \n",
       "2  The Coca-Cola Company, Coca-Cola, Diet Coke, Tiffin Sandwiches   \n",
       "3                                                             NaN   \n",
       "\n",
       "                                                                                                                                                                   Categories  \\\n",
       "0                                                                                   Beverages, Carbonated drinks, Sodas, Energy drinks, Sweetened beverages, Carbonated Sodas   \n",
       "1                                                                                                                  Condiments, Sauces, Tomato sauces, Ketchup, Tomato Ketchup   \n",
       "2  Beverages, Carbonated drinks, Artificially sweetened beverages, Sodas, Diet beverages, Unsweetened beverages, Colas, Diet sodas, Diet cola soft drink, Sweetened beverages   \n",
       "3                                                                                                                                                                         NaN   \n",
       "\n",
       "                                                                                        Countries where sold  \\\n",
       "0                  Australia, Egypt, France, India, Ireland, Morocco, Tunisia, United Kingdom, United States   \n",
       "1  Belgium, Estonia, France, Germany, India, Italy, Netherlands, New Caledonia, Portugal, Spain, Switzerland   \n",
       "2                                                                              France, India, United Kingdom   \n",
       "3                                                                                                      India   \n",
       "\n",
       "           Nutri-Score                      Nutri-Score Quality  \\\n",
       "0        Nutri-Score E                  Bad nutritional quality   \n",
       "1        Nutri-Score D                 Poor nutritional quality   \n",
       "2        Nutri-Score B                 Good nutritional quality   \n",
       "3  Nutri-Score unknown  Missing data to compute the Nutri-Score   \n",
       "\n",
       "          NOVA Group                Food Processing  \\\n",
       "0             NOVA 4          Ultra processed foods   \n",
       "1             NOVA 3                Processed foods   \n",
       "2             NOVA 4          Ultra processed foods   \n",
       "3  NOVA not computed  Food processing level unknown   \n",
       "\n",
       "                      Eco-Score  Packaging Impact  \\\n",
       "0  Eco-Score not yet applicable               NaN   \n",
       "1                   Eco-Score B               NaN   \n",
       "2  Eco-Score not yet applicable               NaN   \n",
       "3        Eco-Score not computed               NaN   \n",
       "\n",
       "                                                                                                                   Nutrient Levels  \\\n",
       "0                                      Fat in low quantity (0%); Sugars in high quantity (11%); Salt in moderate quantity (0.198%)   \n",
       "1  Fat in low quantity (0.1%); Saturated fat in low quantity (0.1%); Sugars in high quantity (22.8%); Salt in high quantity (1.8%)   \n",
       "2             Fat in low quantity (0%); Saturated fat in low quantity (0%); Sugars in low quantity (0%); Salt in low quantity (0%)   \n",
       "3                                                                                                                              NaN   \n",
       "\n",
       "                                                                                                                                                                                                                                                                                            Ingredients  \\\n",
       "0                                                                    Carbonated Water, Sugar, Glucose, Citric Acid, Taurine, Natural flavors, Artificial Flavors, Sodium Bicarbonate, Magnesium Carbonate, Artificial Colors, Caffeine, Niacinamide, Pyridoxine Hci, Calcium Pantothenate, Vitamin B12.   \n",
       "1                                                                                                                                                                                                tomato (148 g per 100 g), vinegar, sugar, salt, extracts of spices and herbs (contains celery ), spice   \n",
       "2  csd water, caramel color, aspartame, phosphoric acid, potassium benzoate (to protect taste), natural flavors, citric acid, caffeine, contains phenylalaline water gazeifiée, caramel colour e150d, sweeteners : aspartame, acesulfame k, flavourings, natural caffeine, phosphoric acid, citric acid   \n",
       "3                                                                                                                                                                                                                                                                                                   NaN   \n",
       "\n",
       "                                                                                                                                                                 Additives  \\\n",
       "0                                                                                         E330 - Citric acid; E500 - Sodium carbonates; E500ii - Sodium hydrogen carbonate   \n",
       "1                                                                                                                                                                      NaN   \n",
       "2  E150c - Ammonia caramel; E150d - Sulphite ammonia caramel; E212 - Potassium benzoate; E330 - Citric acid; E338 - Phosphoric acid; E950 - Acesulfame k; E951 - Aspartame   \n",
       "3                                                                                                                                                                      NaN   \n",
       "\n",
       "                                              Ingredient Analysis  \n",
       "0  Palm oil free; Vegan status unknown; Vegetarian status unknown  \n",
       "1                                Palm oil free; Vegan; Vegetarian  \n",
       "2  Palm oil free; Vegan status unknown; Vegetarian status unknown  \n",
       "3                                                             NaN  "
      ]
     },
     "execution_count": 1,
     "metadata": {},
     "output_type": "execute_result"
    }
   ],
   "source": [
    "import pandas as pd\n",
    "\n",
    "# Load the dataset (assuming CSV format)\n",
    "df = pd.read_csv('products_scraped.csv')\n",
    "pd.set_option('display.max_colwidth', None)\n",
    "df.head(4)"
   ]
  },
  {
   "cell_type": "code",
   "execution_count": 2,
   "id": "d0a4927b-8270-41f4-96db-23c5541cd887",
   "metadata": {},
   "outputs": [
    {
     "name": "stdout",
     "output_type": "stream",
     "text": [
      "<class 'pandas.core.frame.DataFrame'>\n",
      "RangeIndex: 6100 entries, 0 to 6099\n",
      "Data columns (total 17 columns):\n",
      " #   Column                Non-Null Count  Dtype  \n",
      "---  ------                --------------  -----  \n",
      " 0   Product Name          6075 non-null   object \n",
      " 1   Barcode               6070 non-null   float64\n",
      " 2   Common Name           489 non-null    object \n",
      " 3   Packaging             189 non-null    object \n",
      " 4   Brands                3487 non-null   object \n",
      " 5   Categories            3104 non-null   object \n",
      " 6   Countries where sold  6075 non-null   object \n",
      " 7   Nutri-Score           6074 non-null   object \n",
      " 8   Nutri-Score Quality   6074 non-null   object \n",
      " 9   NOVA Group            5025 non-null   object \n",
      " 10  Food Processing       5025 non-null   object \n",
      " 11  Eco-Score             6075 non-null   object \n",
      " 12  Packaging Impact      0 non-null      float64\n",
      " 13  Nutrient Levels       1311 non-null   object \n",
      " 14  Ingredients           1770 non-null   object \n",
      " 15  Additives             953 non-null    object \n",
      " 16  Ingredient Analysis   2253 non-null   object \n",
      "dtypes: float64(2), object(15)\n",
      "memory usage: 810.3+ KB\n",
      "None\n"
     ]
    }
   ],
   "source": [
    "print(df.info())"
   ]
  },
  {
   "cell_type": "code",
   "execution_count": 3,
   "id": "c49993e1-5d81-4141-af8f-29b662999181",
   "metadata": {},
   "outputs": [
    {
     "name": "stdout",
     "output_type": "stream",
     "text": [
      "Number of duplicate rows: 295\n"
     ]
    }
   ],
   "source": [
    "# Check for duplicate rows\n",
    "duplicates = df.duplicated()\n",
    "print(f\"Number of duplicate rows: {duplicates.sum()}\")"
   ]
  },
  {
   "cell_type": "code",
   "execution_count": 4,
   "id": "5acdd991-c3a3-4806-890a-9a1a25291a3b",
   "metadata": {},
   "outputs": [
    {
     "name": "stdout",
     "output_type": "stream",
     "text": [
      "Dataset Shape after removing duplicates: (5805, 17)\n"
     ]
    }
   ],
   "source": [
    "# Remove duplicates\n",
    "df = df.drop_duplicates()\n",
    "print(f\"Dataset Shape after removing duplicates: {df.shape}\")"
   ]
  },
  {
   "cell_type": "code",
   "execution_count": 5,
   "id": "21949797-7b07-4b90-abad-a4ca32046461",
   "metadata": {},
   "outputs": [],
   "source": [
    "# Drop columns with little or no meaningful data\n",
    "df.drop(columns=['Packaging', 'Packaging Impact', 'Countries where sold'], inplace=True)"
   ]
  },
  {
   "cell_type": "code",
   "execution_count": 6,
   "id": "46662c84-609c-4a71-8418-1bf2185ef05f",
   "metadata": {},
   "outputs": [
    {
     "data": {
      "text/plain": [
       "(5805, 14)"
      ]
     },
     "execution_count": 6,
     "metadata": {},
     "output_type": "execute_result"
    }
   ],
   "source": [
    "df.shape"
   ]
  },
  {
   "cell_type": "code",
   "execution_count": 7,
   "id": "98c3b45d-6a2f-4db0-8521-cc96cd8f1fa5",
   "metadata": {},
   "outputs": [],
   "source": [
    "# Retain rows with at least one critical field filled\n",
    "df = df[df[['Ingredients', 'Additives', 'Ingredient Analysis']].notnull().any(axis=1)]"
   ]
  },
  {
   "cell_type": "code",
   "execution_count": 8,
   "id": "1eecf997-b2bc-40f3-b778-8bef476c610c",
   "metadata": {},
   "outputs": [
    {
     "data": {
      "text/plain": [
       "(2123, 14)"
      ]
     },
     "execution_count": 8,
     "metadata": {},
     "output_type": "execute_result"
    }
   ],
   "source": [
    "df.shape"
   ]
  },
  {
   "cell_type": "code",
   "execution_count": 9,
   "id": "7115119e-4e71-4d24-bcf8-dfef4e3036d7",
   "metadata": {},
   "outputs": [
    {
     "name": "stdout",
     "output_type": "stream",
     "text": [
      "Product Name              0\n",
      "Barcode                   3\n",
      "Common Name               0\n",
      "Brands                    0\n",
      "Categories                0\n",
      "Nutri-Score               0\n",
      "Nutri-Score Quality       0\n",
      "NOVA Group               44\n",
      "Food Processing          44\n",
      "Eco-Score                 0\n",
      "Nutrient Levels        1002\n",
      "Ingredients             462\n",
      "Additives              1236\n",
      "Ingredient Analysis       5\n",
      "dtype: int64\n"
     ]
    }
   ],
   "source": [
    "# Fill missing values for less critical columns\n",
    "df['Common Name'].fillna('Unknown', inplace=True)\n",
    "df['Brands'].fillna('Unknown', inplace=True)\n",
    "df['Categories'].fillna('Unknown', inplace=True)\n",
    "\n",
    "# Verify missing values\n",
    "print(df.isnull().sum())"
   ]
  },
  {
   "cell_type": "code",
   "execution_count": 10,
   "id": "28e8168d-20c0-4a39-bf10-245eeb63a118",
   "metadata": {},
   "outputs": [],
   "source": [
    "df['NOVA Group'].fillna(df['NOVA Group'].mode()[0], inplace=True)\n",
    "df['Food Processing'].fillna(df['Food Processing'].mode()[0], inplace=True)"
   ]
  },
  {
   "cell_type": "code",
   "execution_count": 11,
   "id": "f594207b-24c3-412b-84ca-fad82048009f",
   "metadata": {},
   "outputs": [],
   "source": [
    "df['Barcode'].fillna(-1, inplace=True)"
   ]
  },
  {
   "cell_type": "code",
   "execution_count": 12,
   "id": "1ffda389-92ab-44ee-b707-b537b9ebb6f3",
   "metadata": {},
   "outputs": [],
   "source": [
    "df['Nutrient Levels'].fillna('Not Available', inplace=True)"
   ]
  },
  {
   "cell_type": "code",
   "execution_count": 13,
   "id": "24417d86-a0fd-4155-b143-d0f4ef554d6a",
   "metadata": {},
   "outputs": [],
   "source": [
    "df['Ingredient Analysis'].fillna('Not Analyzed', inplace=True)"
   ]
  },
  {
   "cell_type": "code",
   "execution_count": 14,
   "id": "cf605fc6-2627-4da8-9cd5-6a352be0f5af",
   "metadata": {},
   "outputs": [],
   "source": [
    "df = df[df['Ingredients'].notnull() | df['Additives'].notnull()]"
   ]
  },
  {
   "cell_type": "code",
   "execution_count": 15,
   "id": "b1cb08f5-171e-4a06-baa8-12352d336964",
   "metadata": {},
   "outputs": [],
   "source": [
    "# # Impute missing values in 'Additives' column with 'Unknown'\n",
    "# df['Additives'].fillna('Unknown', inplace=True)"
   ]
  },
  {
   "cell_type": "code",
   "execution_count": 16,
   "id": "673fc6c3-7aaa-4189-a2e9-aa88213704f3",
   "metadata": {},
   "outputs": [
    {
     "data": {
      "text/plain": [
       "(1661, 14)"
      ]
     },
     "execution_count": 16,
     "metadata": {},
     "output_type": "execute_result"
    }
   ],
   "source": [
    "df.shape"
   ]
  },
  {
   "cell_type": "code",
   "execution_count": 17,
   "id": "9434246d-c923-4707-8d51-4d69ef919f0c",
   "metadata": {},
   "outputs": [
    {
     "name": "stdout",
     "output_type": "stream",
     "text": [
      "Product Name             0\n",
      "Barcode                  0\n",
      "Common Name              0\n",
      "Brands                   0\n",
      "Categories               0\n",
      "Nutri-Score              0\n",
      "Nutri-Score Quality      0\n",
      "NOVA Group               0\n",
      "Food Processing          0\n",
      "Eco-Score                0\n",
      "Nutrient Levels          0\n",
      "Ingredients              0\n",
      "Additives              774\n",
      "Ingredient Analysis      0\n",
      "dtype: int64\n"
     ]
    }
   ],
   "source": [
    "# Verify missing values\n",
    "print(df.isnull().sum())"
   ]
  },
  {
   "cell_type": "code",
   "execution_count": 18,
   "id": "8afc6dc5-c467-4779-b9b0-b81c9cadb947",
   "metadata": {},
   "outputs": [],
   "source": [
    "# Clean and standardize 'Ingredients' column\n",
    "df['Ingredients'] = df['Ingredients'].str.lower().str.replace(r\"[^a-z, ]\", \"\", regex=True).str.strip()"
   ]
  },
  {
   "cell_type": "code",
   "execution_count": 19,
   "id": "90e4362b-aab3-4789-b83b-251319f6e12f",
   "metadata": {},
   "outputs": [],
   "source": [
    "# Split 'Additives' into lists for better analysis\n",
    "df['Additives'] = df['Additives'].str.lower().str.split(',')"
   ]
  },
  {
   "cell_type": "code",
   "execution_count": 20,
   "id": "8393e756-7a1f-4718-b939-7e9595a00064",
   "metadata": {},
   "outputs": [
    {
     "data": {
      "text/html": [
       "<div>\n",
       "<style scoped>\n",
       "    .dataframe tbody tr th:only-of-type {\n",
       "        vertical-align: middle;\n",
       "    }\n",
       "\n",
       "    .dataframe tbody tr th {\n",
       "        vertical-align: top;\n",
       "    }\n",
       "\n",
       "    .dataframe thead th {\n",
       "        text-align: right;\n",
       "    }\n",
       "</style>\n",
       "<table border=\"1\" class=\"dataframe\">\n",
       "  <thead>\n",
       "    <tr style=\"text-align: right;\">\n",
       "      <th></th>\n",
       "      <th>Product Name</th>\n",
       "      <th>Barcode</th>\n",
       "      <th>Common Name</th>\n",
       "      <th>Brands</th>\n",
       "      <th>Categories</th>\n",
       "      <th>Nutri-Score</th>\n",
       "      <th>Nutri-Score Quality</th>\n",
       "      <th>NOVA Group</th>\n",
       "      <th>Food Processing</th>\n",
       "      <th>Eco-Score</th>\n",
       "      <th>Nutrient Levels</th>\n",
       "      <th>Ingredients</th>\n",
       "      <th>Additives</th>\n",
       "      <th>Ingredient Analysis</th>\n",
       "    </tr>\n",
       "  </thead>\n",
       "  <tbody>\n",
       "    <tr>\n",
       "      <th>0</th>\n",
       "      <td>Redbull - Red Bull - 1</td>\n",
       "      <td>9.016260e+07</td>\n",
       "      <td>Energy Drink</td>\n",
       "      <td>Red Bull</td>\n",
       "      <td>Beverages, Carbonated drinks, Sodas, Energy drinks, Sweetened beverages, Carbonated Sodas</td>\n",
       "      <td>Nutri-Score E</td>\n",
       "      <td>Bad nutritional quality</td>\n",
       "      <td>NOVA 4</td>\n",
       "      <td>Ultra processed foods</td>\n",
       "      <td>Eco-Score not yet applicable</td>\n",
       "      <td>Fat in low quantity (0%); Sugars in high quantity (11%); Salt in moderate quantity (0.198%)</td>\n",
       "      <td>carbonated water, sugar, glucose, citric acid, taurine, natural flavors, artificial flavors, sodium bicarbonate, magnesium carbonate, artificial colors, caffeine, niacinamide, pyridoxine hci, calcium pantothenate, vitamin b</td>\n",
       "      <td>[e330 - citric acid; e500 - sodium carbonates; e500ii - sodium hydrogen carbonate]</td>\n",
       "      <td>Palm oil free; Vegan status unknown; Vegetarian status unknown</td>\n",
       "    </tr>\n",
       "    <tr>\n",
       "      <th>1</th>\n",
       "      <td>Tomato Ketchup - Heinz - 400 ml / 460 g</td>\n",
       "      <td>8.715725e+07</td>\n",
       "      <td>Unknown</td>\n",
       "      <td>Heinz</td>\n",
       "      <td>Condiments, Sauces, Tomato sauces, Ketchup, Tomato Ketchup</td>\n",
       "      <td>Nutri-Score D</td>\n",
       "      <td>Poor nutritional quality</td>\n",
       "      <td>NOVA 3</td>\n",
       "      <td>Processed foods</td>\n",
       "      <td>Eco-Score B</td>\n",
       "      <td>Fat in low quantity (0.1%); Saturated fat in low quantity (0.1%); Sugars in high quantity (22.8%); Salt in high quantity (1.8%)</td>\n",
       "      <td>tomato  g per  g, vinegar, sugar, salt, extracts of spices and herbs contains celery , spice</td>\n",
       "      <td>NaN</td>\n",
       "      <td>Palm oil free; Vegan; Vegetarian</td>\n",
       "    </tr>\n",
       "    <tr>\n",
       "      <th>2</th>\n",
       "      <td>Diet coke - The Coca-Cola Company - 500 ml</td>\n",
       "      <td>5.449150e+07</td>\n",
       "      <td>Unknown</td>\n",
       "      <td>The Coca-Cola Company, Coca-Cola, Diet Coke, Tiffin Sandwiches</td>\n",
       "      <td>Beverages, Carbonated drinks, Artificially sweetened beverages, Sodas, Diet beverages, Unsweetened beverages, Colas, Diet sodas, Diet cola soft drink, Sweetened beverages</td>\n",
       "      <td>Nutri-Score B</td>\n",
       "      <td>Good nutritional quality</td>\n",
       "      <td>NOVA 4</td>\n",
       "      <td>Ultra processed foods</td>\n",
       "      <td>Eco-Score not yet applicable</td>\n",
       "      <td>Fat in low quantity (0%); Saturated fat in low quantity (0%); Sugars in low quantity (0%); Salt in low quantity (0%)</td>\n",
       "      <td>csd water, caramel color, aspartame, phosphoric acid, potassium benzoate to protect taste, natural flavors, citric acid, caffeine, contains phenylalaline water gazeifie, caramel colour ed, sweeteners  aspartame, acesulfame k, flavourings, natural caffeine, phosphoric acid, citric acid</td>\n",
       "      <td>[e150c - ammonia caramel; e150d - sulphite ammonia caramel; e212 - potassium benzoate; e330 - citric acid; e338 - phosphoric acid; e950 - acesulfame k; e951 - aspartame]</td>\n",
       "      <td>Palm oil free; Vegan status unknown; Vegetarian status unknown</td>\n",
       "    </tr>\n",
       "    <tr>\n",
       "      <th>4</th>\n",
       "      <td>Corn Flakes - Kellogg's - 1.2 KG</td>\n",
       "      <td>8.901499e+12</td>\n",
       "      <td>Unknown</td>\n",
       "      <td>Kellogg's</td>\n",
       "      <td>Plant-based foods and beverages, Plant-based foods, Breakfasts, Cereals and potatoes, Cereals and their products, Breakfast cereals, Flakes, Cereal flakes, Extruded cereals, Extruded flakes, Corn flakes</td>\n",
       "      <td>Nutri-Score unknown</td>\n",
       "      <td>Missing data to compute the Nutri-Score</td>\n",
       "      <td>NOVA 3</td>\n",
       "      <td>Processed foods</td>\n",
       "      <td>Eco-Score D</td>\n",
       "      <td>Not Available</td>\n",
       "      <td>corn grits , sugar, cereal extract, lodized salt, vitamins, minerals and antioxidant ins  contains gluten may contain traces of treenut</td>\n",
       "      <td>[e320 - butylated hydroxyanisole (bha)]</td>\n",
       "      <td>Palm oil free; Vegan status unknown; Vegetarian status unknown</td>\n",
       "    </tr>\n",
       "    <tr>\n",
       "      <th>7</th>\n",
       "      <td>Dal makhani - Kohinoor - 300g</td>\n",
       "      <td>8.901048e+12</td>\n",
       "      <td>Unknown</td>\n",
       "      <td>Kohinoor</td>\n",
       "      <td>Condiments, Meals, Sauces, Microwave meals, Curry sauces, Dal-makhani, Pre-cooked-dal-microwave-pouch</td>\n",
       "      <td>Nutri-Score B</td>\n",
       "      <td>Good nutritional quality</td>\n",
       "      <td>NOVA 3</td>\n",
       "      <td>Processed foods</td>\n",
       "      <td>Eco-Score B</td>\n",
       "      <td>Fat in moderate quantity (3.2%); Saturated fat in low quantity (0.5%); Sugars in low quantity (0.2%); Salt in moderate quantity (0.78%)</td>\n",
       "      <td>water, black gram lentils , tomato , red kidney beans , sunflower oil, garlic, salt, ginger , cumin powder, garam masala, red chilli powder, fenugreek leaves, cinnamon, cardamom, bay leaf, nutmeg powder, mace powder</td>\n",
       "      <td>NaN</td>\n",
       "      <td>Palm oil free; Vegan status unknown; Vegetarian status unknown</td>\n",
       "    </tr>\n",
       "  </tbody>\n",
       "</table>\n",
       "</div>"
      ],
      "text/plain": [
       "                                 Product Name       Barcode   Common Name  \\\n",
       "0                      Redbull - Red Bull - 1  9.016260e+07  Energy Drink   \n",
       "1     Tomato Ketchup - Heinz - 400 ml / 460 g  8.715725e+07       Unknown   \n",
       "2  Diet coke - The Coca-Cola Company - 500 ml  5.449150e+07       Unknown   \n",
       "4            Corn Flakes - Kellogg's - 1.2 KG  8.901499e+12       Unknown   \n",
       "7               Dal makhani - Kohinoor - 300g  8.901048e+12       Unknown   \n",
       "\n",
       "                                                           Brands  \\\n",
       "0                                                        Red Bull   \n",
       "1                                                           Heinz   \n",
       "2  The Coca-Cola Company, Coca-Cola, Diet Coke, Tiffin Sandwiches   \n",
       "4                                                       Kellogg's   \n",
       "7                                                        Kohinoor   \n",
       "\n",
       "                                                                                                                                                                                                   Categories  \\\n",
       "0                                                                                                                   Beverages, Carbonated drinks, Sodas, Energy drinks, Sweetened beverages, Carbonated Sodas   \n",
       "1                                                                                                                                                  Condiments, Sauces, Tomato sauces, Ketchup, Tomato Ketchup   \n",
       "2                                  Beverages, Carbonated drinks, Artificially sweetened beverages, Sodas, Diet beverages, Unsweetened beverages, Colas, Diet sodas, Diet cola soft drink, Sweetened beverages   \n",
       "4  Plant-based foods and beverages, Plant-based foods, Breakfasts, Cereals and potatoes, Cereals and their products, Breakfast cereals, Flakes, Cereal flakes, Extruded cereals, Extruded flakes, Corn flakes   \n",
       "7                                                                                                       Condiments, Meals, Sauces, Microwave meals, Curry sauces, Dal-makhani, Pre-cooked-dal-microwave-pouch   \n",
       "\n",
       "           Nutri-Score                      Nutri-Score Quality NOVA Group  \\\n",
       "0        Nutri-Score E                  Bad nutritional quality     NOVA 4   \n",
       "1        Nutri-Score D                 Poor nutritional quality     NOVA 3   \n",
       "2        Nutri-Score B                 Good nutritional quality     NOVA 4   \n",
       "4  Nutri-Score unknown  Missing data to compute the Nutri-Score     NOVA 3   \n",
       "7        Nutri-Score B                 Good nutritional quality     NOVA 3   \n",
       "\n",
       "         Food Processing                     Eco-Score  \\\n",
       "0  Ultra processed foods  Eco-Score not yet applicable   \n",
       "1        Processed foods                   Eco-Score B   \n",
       "2  Ultra processed foods  Eco-Score not yet applicable   \n",
       "4        Processed foods                   Eco-Score D   \n",
       "7        Processed foods                   Eco-Score B   \n",
       "\n",
       "                                                                                                                           Nutrient Levels  \\\n",
       "0                                              Fat in low quantity (0%); Sugars in high quantity (11%); Salt in moderate quantity (0.198%)   \n",
       "1          Fat in low quantity (0.1%); Saturated fat in low quantity (0.1%); Sugars in high quantity (22.8%); Salt in high quantity (1.8%)   \n",
       "2                     Fat in low quantity (0%); Saturated fat in low quantity (0%); Sugars in low quantity (0%); Salt in low quantity (0%)   \n",
       "4                                                                                                                            Not Available   \n",
       "7  Fat in moderate quantity (3.2%); Saturated fat in low quantity (0.5%); Sugars in low quantity (0.2%); Salt in moderate quantity (0.78%)   \n",
       "\n",
       "                                                                                                                                                                                                                                                                                     Ingredients  \\\n",
       "0                                                                carbonated water, sugar, glucose, citric acid, taurine, natural flavors, artificial flavors, sodium bicarbonate, magnesium carbonate, artificial colors, caffeine, niacinamide, pyridoxine hci, calcium pantothenate, vitamin b   \n",
       "1                                                                                                                                                                                                   tomato  g per  g, vinegar, sugar, salt, extracts of spices and herbs contains celery , spice   \n",
       "2  csd water, caramel color, aspartame, phosphoric acid, potassium benzoate to protect taste, natural flavors, citric acid, caffeine, contains phenylalaline water gazeifie, caramel colour ed, sweeteners  aspartame, acesulfame k, flavourings, natural caffeine, phosphoric acid, citric acid   \n",
       "4                                                                                                                                                        corn grits , sugar, cereal extract, lodized salt, vitamins, minerals and antioxidant ins  contains gluten may contain traces of treenut   \n",
       "7                                                                        water, black gram lentils , tomato , red kidney beans , sunflower oil, garlic, salt, ginger , cumin powder, garam masala, red chilli powder, fenugreek leaves, cinnamon, cardamom, bay leaf, nutmeg powder, mace powder   \n",
       "\n",
       "                                                                                                                                                                   Additives  \\\n",
       "0                                                                                         [e330 - citric acid; e500 - sodium carbonates; e500ii - sodium hydrogen carbonate]   \n",
       "1                                                                                                                                                                        NaN   \n",
       "2  [e150c - ammonia caramel; e150d - sulphite ammonia caramel; e212 - potassium benzoate; e330 - citric acid; e338 - phosphoric acid; e950 - acesulfame k; e951 - aspartame]   \n",
       "4                                                                                                                                    [e320 - butylated hydroxyanisole (bha)]   \n",
       "7                                                                                                                                                                        NaN   \n",
       "\n",
       "                                              Ingredient Analysis  \n",
       "0  Palm oil free; Vegan status unknown; Vegetarian status unknown  \n",
       "1                                Palm oil free; Vegan; Vegetarian  \n",
       "2  Palm oil free; Vegan status unknown; Vegetarian status unknown  \n",
       "4  Palm oil free; Vegan status unknown; Vegetarian status unknown  \n",
       "7  Palm oil free; Vegan status unknown; Vegetarian status unknown  "
      ]
     },
     "execution_count": 20,
     "metadata": {},
     "output_type": "execute_result"
    }
   ],
   "source": [
    "df.head()"
   ]
  },
  {
   "cell_type": "code",
   "execution_count": 21,
   "id": "45608aa4-cfe8-4d12-aba3-fa82036159e0",
   "metadata": {},
   "outputs": [
    {
     "data": {
      "text/plain": [
       "(1661, 14)"
      ]
     },
     "execution_count": 21,
     "metadata": {},
     "output_type": "execute_result"
    }
   ],
   "source": [
    "df.shape"
   ]
  },
  {
   "cell_type": "code",
   "execution_count": 22,
   "id": "e6cfb8fe-19cc-44d2-a400-00da7da5760f",
   "metadata": {},
   "outputs": [
    {
     "name": "stdout",
     "output_type": "stream",
     "text": [
      "Cleaned data saved to cleaned_products.csv\n"
     ]
    }
   ],
   "source": [
    "# Save cleaned dataset\n",
    "cleaned_file_path = \"cleaned_products.csv\"\n",
    "df.to_csv(cleaned_file_path, index=False)\n",
    "\n",
    "print(f\"Cleaned data saved to {cleaned_file_path}\")"
   ]
  },
  {
   "cell_type": "code",
   "execution_count": 23,
   "id": "5b38a928-9a50-4509-accb-23234b3db7c2",
   "metadata": {},
   "outputs": [],
   "source": [
    "df['NOVA_Group'] = df['NOVA Group'].str.extract('(\\d+)').astype(float)"
   ]
  },
  {
   "cell_type": "code",
   "execution_count": 24,
   "id": "83df6c36-87d1-4513-8dc4-fbf66c739030",
   "metadata": {},
   "outputs": [],
   "source": [
    "# def fill_nova(row):\n",
    "#     if pd.isnull(row['NOVA_Group']):\n",
    "#         if 'Ultra processed' in row['Food Processing']:\n",
    "#             return 4\n",
    "#         elif 'Processed' in row['Food Processing']:\n",
    "#             return 3\n",
    "#         else:\n",
    "#             return 1  # Default to minimally processed\n",
    "#     return row['NOVA_Group']\n",
    "\n",
    "# df['NOVA_Group'] = df.apply(fill_nova, axis=1)\n"
   ]
  },
  {
   "cell_type": "code",
   "execution_count": 25,
   "id": "d48fae16-316d-4027-8f3b-7a35ef7c7399",
   "metadata": {},
   "outputs": [],
   "source": [
    "from sklearn.preprocessing import LabelEncoder\n",
    "\n",
    "le = LabelEncoder()\n",
    "df['Nutri_Score_Quality'] = le.fit_transform(df['Nutri-Score Quality'])"
   ]
  },
  {
   "cell_type": "code",
   "execution_count": 26,
   "id": "2b5fa00d-e6a1-45da-9c16-bddd9c9bf349",
   "metadata": {},
   "outputs": [
    {
     "name": "stdout",
     "output_type": "stream",
     "text": [
      "   Num_Ingredients  Harmful_Additive_Count  Contains_Harmful_Additives\n",
      "0               15                       1                        True\n",
      "1                6                       0                       False\n",
      "2               16                       3                        True\n",
      "4                6                       1                        True\n",
      "7               17                       0                       False\n"
     ]
    }
   ],
   "source": [
    "# Example harmful additives list\n",
    "harmful_additives = ['e102', 'e110', 'e122', 'e124', 'e211', 'e924', 'e443', 'e400', 'e250', 'e951', \n",
    "    'e320', 'e321', 'e330', 'e407', 'e466', 'e621', 'e627', 'e631', 'e950', 'e951', \n",
    "    'e952', 'e954', 'e133', 'e132', 'e143']  # Update with more additives\n",
    "\n",
    "# Count the number of ingredients\n",
    "df['Num_Ingredients'] = df['Ingredients'].apply(lambda x: len(x.split(',')) if pd.notnull(x) else 0)\n",
    "\n",
    "# Extract additives and split by semicolon\n",
    "df['Additives'] = df['Additives'].apply(\n",
    "    lambda x: [additive.split(' -')[0].strip() for additive in x[0].split(';')] if isinstance(x, list) else []\n",
    ")\n",
    "\n",
    "# Flag products with harmful additives\n",
    "df['Contains_Harmful_Additives'] = df['Additives'].apply(\n",
    "    lambda additives: any(additive in harmful_additives for additive in additives) if additives else False\n",
    ")\n",
    "\n",
    "# Count harmful additives per product\n",
    "df['Harmful_Additive_Count'] = df['Additives'].apply(lambda x: sum(1 for additive in x if additive in harmful_additives))\n",
    "\n",
    "# Preview new features\n",
    "print(df[['Num_Ingredients', 'Harmful_Additive_Count', 'Contains_Harmful_Additives']].head())\n"
   ]
  },
  {
   "cell_type": "code",
   "execution_count": 27,
   "id": "dadddeee-2fe3-430f-a12e-a3e8c352e825",
   "metadata": {},
   "outputs": [
    {
     "name": "stdout",
     "output_type": "stream",
     "text": [
      "                                                                                                                                                                                                                                                                                     Ingredients  \\\n",
      "0                                                                carbonated water, sugar, glucose, citric acid, taurine, natural flavors, artificial flavors, sodium bicarbonate, magnesium carbonate, artificial colors, caffeine, niacinamide, pyridoxine hci, calcium pantothenate, vitamin b   \n",
      "1                                                                                                                                                                                                   tomato  g per  g, vinegar, sugar, salt, extracts of spices and herbs contains celery , spice   \n",
      "2  csd water, caramel color, aspartame, phosphoric acid, potassium benzoate to protect taste, natural flavors, citric acid, caffeine, contains phenylalaline water gazeifie, caramel colour ed, sweeteners  aspartame, acesulfame k, flavourings, natural caffeine, phosphoric acid, citric acid   \n",
      "4                                                                                                                                                        corn grits , sugar, cereal extract, lodized salt, vitamins, minerals and antioxidant ins  contains gluten may contain traces of treenut   \n",
      "7                                                                        water, black gram lentils , tomato , red kidney beans , sunflower oil, garlic, salt, ginger , cumin powder, garam masala, red chilli powder, fenugreek leaves, cinnamon, cardamom, bay leaf, nutmeg powder, mace powder   \n",
      "\n",
      "   Ingredient_Complexity  \n",
      "0                     15  \n",
      "1                      6  \n",
      "2                     16  \n",
      "4                      6  \n",
      "7                     17  \n"
     ]
    }
   ],
   "source": [
    "# Count the number of ingredients in each product\n",
    "df['Ingredient_Complexity'] = df['Ingredients'].apply(lambda x: len(x.split(',')) if isinstance(x, str) else 0)\n",
    "\n",
    "# Preview results\n",
    "print(df[['Ingredients', 'Ingredient_Complexity']].head())\n"
   ]
  },
  {
   "cell_type": "code",
   "execution_count": 28,
   "id": "bf0b143f-a7c0-4ffa-abea-d26bbdf76d64",
   "metadata": {},
   "outputs": [
    {
     "name": "stdout",
     "output_type": "stream",
     "text": [
      "                                                                                                                           Nutrient Levels  \\\n",
      "0                                              Fat in low quantity (0%); Sugars in high quantity (11%); Salt in moderate quantity (0.198%)   \n",
      "1          Fat in low quantity (0.1%); Saturated fat in low quantity (0.1%); Sugars in high quantity (22.8%); Salt in high quantity (1.8%)   \n",
      "2                     Fat in low quantity (0%); Saturated fat in low quantity (0%); Sugars in low quantity (0%); Salt in low quantity (0%)   \n",
      "4                                                                                                                            Not Available   \n",
      "7  Fat in moderate quantity (3.2%); Saturated fat in low quantity (0.5%); Sugars in low quantity (0.2%); Salt in moderate quantity (0.78%)   \n",
      "\n",
      "   High_Sugar  High_Salt  \n",
      "0        True      False  \n",
      "1        True       True  \n",
      "2       False      False  \n",
      "4       False      False  \n",
      "7       False      False  \n"
     ]
    }
   ],
   "source": [
    "# Example threshold values for concerns\n",
    "# high_sugar_threshold = 5  # Example: 5g per 100g is high for diabetes\n",
    "# high_salt_threshold = 0.5  # Example: 0.5g per 100g is high for BP patients\n",
    "\n",
    "# Create flags based on Nutrient Levels\n",
    "# df['High_Sugar'] = df['Nutrient Levels'].apply(lambda x: 'Sugars in high quantity' in x if isinstance(x, str) else False)\n",
    "# df['High_Salt'] = df['Nutrient Levels'].apply(lambda x: 'Salt in high quantity' in x if isinstance(x, str) else False)\n",
    "\n",
    "# Preview results\n",
    "# print(df[['Nutrient Levels', 'High_Sugar', 'High_Salt']].head())\n"
   ]
  },
  {
   "cell_type": "code",
   "execution_count": 29,
   "id": "cba061fa-ca47-4d65-baf6-71d204a46071",
   "metadata": {},
   "outputs": [
    {
     "name": "stdout",
     "output_type": "stream",
     "text": [
      "   High_Sugar  High_Salt  Risk_Score\n",
      "0        True      False        17.5\n",
      "1        True       True         8.0\n",
      "2       False      False        19.0\n",
      "4       False      False         5.0\n",
      "7       False      False         8.5\n",
      "   Harmful_Additive_Count  Ingredient_Complexity  Risk_Score\n",
      "0                       1                     15        17.5\n",
      "1                       0                      6         8.0\n",
      "2                       3                     16        19.0\n",
      "4                       1                      6         5.0\n",
      "7                       0                     17         8.5\n"
     ]
    }
   ],
   "source": [
    "# Assign risk scores based on health concerns and processing level\n",
    "def calculate_risk(row):\n",
    "    score = 0\n",
    "    \n",
    "    # Additive Risk (More harmful additives = Higher risk)\n",
    "    score += row['Harmful_Additive_Count'] * 2  \n",
    "\n",
    "    # Ingredient Complexity (More ingredients = Higher risk)\n",
    "    score += row['Ingredient_Complexity'] * 0.5  \n",
    "\n",
    "    # # Processing Risk (Higher NOVA Group = Higher risk)\n",
    "    # score += row['NOVA_Group'] * 2  \n",
    "\n",
    "    # # Nutrition Risk (Worse Nutri-Score Quality = Higher risk)\n",
    "    # score += row['Nutri_Score_Quality'] * 3  \n",
    "    \n",
    "    # # Processing Risk\n",
    "    # if \"Ultra processed\" in row['Food Processing']:\n",
    "    #     score += 5  \n",
    "\n",
    "    # Nutrition Risk\n",
    "    if row['High_Sugar']:\n",
    "        score += 3  \n",
    "    if row['High_Salt']:\n",
    "        score += 2  \n",
    "\n",
    "    return score\n",
    "\n",
    "# Apply function to calculate risk scores# Define threshold for health concerns (per 100g, since no serving size)\n",
    "high_sugar_threshold = 5  # grams of sugar per 100g\n",
    "high_salt_threshold = 0.5  # grams of salt per 100g\n",
    "\n",
    "# Update health-specific flags based on Nutrient Levels\n",
    "df['High_Sugar'] = df['Nutrient Levels'].apply(lambda x: 'Sugars in high quantity' in x if isinstance(x, str) else False)\n",
    "df['High_Salt'] = df['Nutrient Levels'].apply(lambda x: 'Salt in high quantity' in x if isinstance(x, str) else False)\n",
    "\n",
    "# Now you can calculate risk based on these flags\n",
    "def calculate_risk(row):\n",
    "    score = 0\n",
    "    \n",
    "    # Additive Risk\n",
    "    score += row['Harmful_Additive_Count'] * 2  \n",
    "\n",
    "    # Ingredient Complexity\n",
    "    score += row['Ingredient_Complexity'] * 0.5  \n",
    "\n",
    "    # Processing Risk\n",
    "    if \"Ultra processed\" in row['Food Processing']:\n",
    "        score += 5  \n",
    "\n",
    "    # Nutrition Risk\n",
    "    if row['High_Sugar']:\n",
    "        score += 3  \n",
    "    if row['High_Salt']:\n",
    "        score += 2  \n",
    "\n",
    "    return score\n",
    "\n",
    "# Apply the function\n",
    "df['Risk_Score'] = df.apply(calculate_risk, axis=1)\n",
    "\n",
    "# Preview\n",
    "print(df[['High_Sugar', 'High_Salt', 'Risk_Score']].head())\n",
    "\n",
    "df['Risk_Score'] = df.apply(calculate_risk, axis=1)\n",
    "\n",
    "# Preview results\n",
    "print(df[['Harmful_Additive_Count', 'Ingredient_Complexity', 'Risk_Score']].head())\n"
   ]
  },
  {
   "cell_type": "code",
   "execution_count": 30,
   "id": "38fb7d88-602a-45c4-8da8-02a888d6bcfd",
   "metadata": {},
   "outputs": [
    {
     "name": "stderr",
     "output_type": "stream",
     "text": [
      "C:\\ProgramData\\anaconda3\\Lib\\site-packages\\seaborn\\_oldcore.py:1119: FutureWarning: use_inf_as_na option is deprecated and will be removed in a future version. Convert inf values to NaN before operating instead.\n",
      "  with pd.option_context('mode.use_inf_as_na', True):\n"
     ]
    },
    {
     "data": {
      "image/png": "[encoded data removed]",
      "text/plain": [
       "<Figure size 1000x600 with 1 Axes>"
      ]
     },
     "metadata": {},
     "output_type": "display_data"
    }
   ],
   "source": [
    "import matplotlib.pyplot as plt\n",
    "import seaborn as sns\n",
    "\n",
    "# Plot distribution of risk scores\n",
    "plt.figure(figsize=(10,6))\n",
    "sns.histplot(df['Risk_Score'], kde=True, color='blue')\n",
    "plt.title('Distribution of Risk Scores for Products')\n",
    "plt.xlabel('Risk Score')\n",
    "plt.ylabel('Frequency')\n",
    "plt.show()\n"
   ]
  },
  {
   "cell_type": "code",
   "execution_count": 31,
   "id": "268ae668-b376-4258-9369-3decca4c1bc3",
   "metadata": {},
   "outputs": [
    {
     "data": {
      "image/png": "[encoded data removed]",
      "text/plain": [
       "<Figure size 1000x600 with 1 Axes>"
      ]
     },
     "metadata": {},
     "output_type": "display_data"
    }
   ],
   "source": [
    "plt.figure(figsize=(10,6))\n",
    "sns.scatterplot(x='Ingredient_Complexity', y='Risk_Score', data=df)\n",
    "plt.title('Ingredient Complexity vs Risk Score')\n",
    "plt.xlabel('Number of Ingredients')\n",
    "plt.ylabel('Risk Score')\n",
    "plt.show()\n"
   ]
  },
  {
   "cell_type": "code",
   "execution_count": 32,
   "id": "052362b1-8a89-4081-9ed9-cdbbe9b9d861",
   "metadata": {},
   "outputs": [
    {
     "name": "stderr",
     "output_type": "stream",
     "text": [
      "C:\\ProgramData\\anaconda3\\Lib\\site-packages\\seaborn\\categorical.py:641: FutureWarning: The default of observed=False is deprecated and will be changed to True in a future version of pandas. Pass observed=False to retain current behavior or observed=True to adopt the future default and silence this warning.\n",
      "  grouped_vals = vals.groupby(grouper)\n"
     ]
    },
    {
     "data": {
      "image/png": "[encoded data removed]",
      "text/plain": [
       "<Figure size 1000x600 with 1 Axes>"
      ]
     },
     "metadata": {},
     "output_type": "display_data"
    }
   ],
   "source": [
    "# Binning Risk_Score into categories\n",
    "# Define better bins for Risk_Score\n",
    "bins = [0, 5, 10, 20, 30, 40]  # Adjust as needed for your dataset\n",
    "labels = ['Low', 'Moderate', 'High', 'Very High', 'Extremely High']  # Customize these labels\n",
    "\n",
    "# Apply binning to Risk_Score\n",
    "df['Risk_Score_Category'] = pd.cut(df['Risk_Score'], bins=bins, labels=labels, right=False)\n",
    "\n",
    "# Ensure all categories are assigned\n",
    "# print(df[['Risk_Score', 'Risk_Score_Category']].head())\n",
    "\n",
    "\n",
    "# Ensure High_Sugar is boolean or categorical\n",
    "df['High_Sugar'] = df['High_Sugar'].astype('category')\n",
    "import matplotlib.pyplot as plt\n",
    "import seaborn as sns\n",
    "\n",
    "plt.figure(figsize=(10,6))\n",
    "sns.countplot(x='High_Sugar', hue='Risk_Score_Category', data=df)\n",
    "\n",
    "plt.title('High Sugar Products and Risk Categories')\n",
    "plt.xlabel('High Sugar')\n",
    "plt.ylabel('Count')\n",
    "plt.show()\n"
   ]
  },
  {
   "cell_type": "code",
   "execution_count": 33,
   "id": "c75e2542-ab36-4f50-a0aa-433455443ebd",
   "metadata": {},
   "outputs": [
    {
     "name": "stdout",
     "output_type": "stream",
     "text": [
      "  High_Sugar  Risk_Score Risk_Score_Category\n",
      "0       True        17.5                High\n",
      "1       True         8.0            Moderate\n",
      "2      False        19.0                High\n",
      "4      False         5.0            Moderate\n",
      "7      False         8.5            Moderate\n",
      "High_Sugar             category\n",
      "Risk_Score_Category    category\n",
      "dtype: object\n"
     ]
    },
    {
     "data": {
      "text/html": [
       "<div>\n",
       "<style scoped>\n",
       "    .dataframe tbody tr th:only-of-type {\n",
       "        vertical-align: middle;\n",
       "    }\n",
       "\n",
       "    .dataframe tbody tr th {\n",
       "        vertical-align: top;\n",
       "    }\n",
       "\n",
       "    .dataframe thead th {\n",
       "        text-align: right;\n",
       "    }\n",
       "</style>\n",
       "<table border=\"1\" class=\"dataframe\">\n",
       "  <thead>\n",
       "    <tr style=\"text-align: right;\">\n",
       "      <th></th>\n",
       "      <th>Product Name</th>\n",
       "      <th>Barcode</th>\n",
       "      <th>Common Name</th>\n",
       "      <th>Brands</th>\n",
       "      <th>Categories</th>\n",
       "      <th>Nutri-Score</th>\n",
       "      <th>Nutri-Score Quality</th>\n",
       "      <th>NOVA Group</th>\n",
       "      <th>Food Processing</th>\n",
       "      <th>Eco-Score</th>\n",
       "      <th>...</th>\n",
       "      <th>NOVA_Group</th>\n",
       "      <th>Nutri_Score_Quality</th>\n",
       "      <th>Num_Ingredients</th>\n",
       "      <th>Contains_Harmful_Additives</th>\n",
       "      <th>Harmful_Additive_Count</th>\n",
       "      <th>Ingredient_Complexity</th>\n",
       "      <th>High_Sugar</th>\n",
       "      <th>High_Salt</th>\n",
       "      <th>Risk_Score</th>\n",
       "      <th>Risk_Score_Category</th>\n",
       "    </tr>\n",
       "  </thead>\n",
       "  <tbody>\n",
       "    <tr>\n",
       "      <th>0</th>\n",
       "      <td>Redbull - Red Bull - 1</td>\n",
       "      <td>9.016260e+07</td>\n",
       "      <td>Energy Drink</td>\n",
       "      <td>Red Bull</td>\n",
       "      <td>Beverages, Carbonated drinks, Sodas, Energy drinks, Sweetened beverages, Carbonated Sodas</td>\n",
       "      <td>Nutri-Score E</td>\n",
       "      <td>Bad nutritional quality</td>\n",
       "      <td>NOVA 4</td>\n",
       "      <td>Ultra processed foods</td>\n",
       "      <td>Eco-Score not yet applicable</td>\n",
       "      <td>...</td>\n",
       "      <td>4.0</td>\n",
       "      <td>1</td>\n",
       "      <td>15</td>\n",
       "      <td>True</td>\n",
       "      <td>1</td>\n",
       "      <td>15</td>\n",
       "      <td>True</td>\n",
       "      <td>False</td>\n",
       "      <td>17.5</td>\n",
       "      <td>High</td>\n",
       "    </tr>\n",
       "    <tr>\n",
       "      <th>1</th>\n",
       "      <td>Tomato Ketchup - Heinz - 400 ml / 460 g</td>\n",
       "      <td>8.715725e+07</td>\n",
       "      <td>Unknown</td>\n",
       "      <td>Heinz</td>\n",
       "      <td>Condiments, Sauces, Tomato sauces, Ketchup, Tomato Ketchup</td>\n",
       "      <td>Nutri-Score D</td>\n",
       "      <td>Poor nutritional quality</td>\n",
       "      <td>NOVA 3</td>\n",
       "      <td>Processed foods</td>\n",
       "      <td>Eco-Score B</td>\n",
       "      <td>...</td>\n",
       "      <td>3.0</td>\n",
       "      <td>5</td>\n",
       "      <td>6</td>\n",
       "      <td>False</td>\n",
       "      <td>0</td>\n",
       "      <td>6</td>\n",
       "      <td>True</td>\n",
       "      <td>True</td>\n",
       "      <td>8.0</td>\n",
       "      <td>Moderate</td>\n",
       "    </tr>\n",
       "    <tr>\n",
       "      <th>2</th>\n",
       "      <td>Diet coke - The Coca-Cola Company - 500 ml</td>\n",
       "      <td>5.449150e+07</td>\n",
       "      <td>Unknown</td>\n",
       "      <td>The Coca-Cola Company, Coca-Cola, Diet Coke, Tiffin Sandwiches</td>\n",
       "      <td>Beverages, Carbonated drinks, Artificially sweetened beverages, Sodas, Diet beverages, Unsweetened beverages, Colas, Diet sodas, Diet cola soft drink, Sweetened beverages</td>\n",
       "      <td>Nutri-Score B</td>\n",
       "      <td>Good nutritional quality</td>\n",
       "      <td>NOVA 4</td>\n",
       "      <td>Ultra processed foods</td>\n",
       "      <td>Eco-Score not yet applicable</td>\n",
       "      <td>...</td>\n",
       "      <td>4.0</td>\n",
       "      <td>2</td>\n",
       "      <td>16</td>\n",
       "      <td>True</td>\n",
       "      <td>3</td>\n",
       "      <td>16</td>\n",
       "      <td>False</td>\n",
       "      <td>False</td>\n",
       "      <td>19.0</td>\n",
       "      <td>High</td>\n",
       "    </tr>\n",
       "    <tr>\n",
       "      <th>4</th>\n",
       "      <td>Corn Flakes - Kellogg's - 1.2 KG</td>\n",
       "      <td>8.901499e+12</td>\n",
       "      <td>Unknown</td>\n",
       "      <td>Kellogg's</td>\n",
       "      <td>Plant-based foods and beverages, Plant-based foods, Breakfasts, Cereals and potatoes, Cereals and their products, Breakfast cereals, Flakes, Cereal flakes, Extruded cereals, Extruded flakes, Corn flakes</td>\n",
       "      <td>Nutri-Score unknown</td>\n",
       "      <td>Missing data to compute the Nutri-Score</td>\n",
       "      <td>NOVA 3</td>\n",
       "      <td>Processed foods</td>\n",
       "      <td>Eco-Score D</td>\n",
       "      <td>...</td>\n",
       "      <td>3.0</td>\n",
       "      <td>3</td>\n",
       "      <td>6</td>\n",
       "      <td>True</td>\n",
       "      <td>1</td>\n",
       "      <td>6</td>\n",
       "      <td>False</td>\n",
       "      <td>False</td>\n",
       "      <td>5.0</td>\n",
       "      <td>Moderate</td>\n",
       "    </tr>\n",
       "    <tr>\n",
       "      <th>7</th>\n",
       "      <td>Dal makhani - Kohinoor - 300g</td>\n",
       "      <td>8.901048e+12</td>\n",
       "      <td>Unknown</td>\n",
       "      <td>Kohinoor</td>\n",
       "      <td>Condiments, Meals, Sauces, Microwave meals, Curry sauces, Dal-makhani, Pre-cooked-dal-microwave-pouch</td>\n",
       "      <td>Nutri-Score B</td>\n",
       "      <td>Good nutritional quality</td>\n",
       "      <td>NOVA 3</td>\n",
       "      <td>Processed foods</td>\n",
       "      <td>Eco-Score B</td>\n",
       "      <td>...</td>\n",
       "      <td>3.0</td>\n",
       "      <td>2</td>\n",
       "      <td>17</td>\n",
       "      <td>False</td>\n",
       "      <td>0</td>\n",
       "      <td>17</td>\n",
       "      <td>False</td>\n",
       "      <td>False</td>\n",
       "      <td>8.5</td>\n",
       "      <td>Moderate</td>\n",
       "    </tr>\n",
       "  </tbody>\n",
       "</table>\n",
       "<p>5 rows × 24 columns</p>\n",
       "</div>"
      ],
      "text/plain": [
       "                                 Product Name       Barcode   Common Name  \\\n",
       "0                      Redbull - Red Bull - 1  9.016260e+07  Energy Drink   \n",
       "1     Tomato Ketchup - Heinz - 400 ml / 460 g  8.715725e+07       Unknown   \n",
       "2  Diet coke - The Coca-Cola Company - 500 ml  5.449150e+07       Unknown   \n",
       "4            Corn Flakes - Kellogg's - 1.2 KG  8.901499e+12       Unknown   \n",
       "7               Dal makhani - Kohinoor - 300g  8.901048e+12       Unknown   \n",
       "\n",
       "                                                           Brands  \\\n",
       "0                                                        Red Bull   \n",
       "1                                                           Heinz   \n",
       "2  The Coca-Cola Company, Coca-Cola, Diet Coke, Tiffin Sandwiches   \n",
       "4                                                       Kellogg's   \n",
       "7                                                        Kohinoor   \n",
       "\n",
       "                                                                                                                                                                                                   Categories  \\\n",
       "0                                                                                                                   Beverages, Carbonated drinks, Sodas, Energy drinks, Sweetened beverages, Carbonated Sodas   \n",
       "1                                                                                                                                                  Condiments, Sauces, Tomato sauces, Ketchup, Tomato Ketchup   \n",
       "2                                  Beverages, Carbonated drinks, Artificially sweetened beverages, Sodas, Diet beverages, Unsweetened beverages, Colas, Diet sodas, Diet cola soft drink, Sweetened beverages   \n",
       "4  Plant-based foods and beverages, Plant-based foods, Breakfasts, Cereals and potatoes, Cereals and their products, Breakfast cereals, Flakes, Cereal flakes, Extruded cereals, Extruded flakes, Corn flakes   \n",
       "7                                                                                                       Condiments, Meals, Sauces, Microwave meals, Curry sauces, Dal-makhani, Pre-cooked-dal-microwave-pouch   \n",
       "\n",
       "           Nutri-Score                      Nutri-Score Quality NOVA Group  \\\n",
       "0        Nutri-Score E                  Bad nutritional quality     NOVA 4   \n",
       "1        Nutri-Score D                 Poor nutritional quality     NOVA 3   \n",
       "2        Nutri-Score B                 Good nutritional quality     NOVA 4   \n",
       "4  Nutri-Score unknown  Missing data to compute the Nutri-Score     NOVA 3   \n",
       "7        Nutri-Score B                 Good nutritional quality     NOVA 3   \n",
       "\n",
       "         Food Processing                     Eco-Score  ... NOVA_Group  \\\n",
       "0  Ultra processed foods  Eco-Score not yet applicable  ...        4.0   \n",
       "1        Processed foods                   Eco-Score B  ...        3.0   \n",
       "2  Ultra processed foods  Eco-Score not yet applicable  ...        4.0   \n",
       "4        Processed foods                   Eco-Score D  ...        3.0   \n",
       "7        Processed foods                   Eco-Score B  ...        3.0   \n",
       "\n",
       "  Nutri_Score_Quality Num_Ingredients Contains_Harmful_Additives  \\\n",
       "0                   1              15                       True   \n",
       "1                   5               6                      False   \n",
       "2                   2              16                       True   \n",
       "4                   3               6                       True   \n",
       "7                   2              17                      False   \n",
       "\n",
       "   Harmful_Additive_Count  Ingredient_Complexity  High_Sugar  High_Salt  \\\n",
       "0                       1                     15        True      False   \n",
       "1                       0                      6        True       True   \n",
       "2                       3                     16       False      False   \n",
       "4                       1                      6       False      False   \n",
       "7                       0                     17       False      False   \n",
       "\n",
       "   Risk_Score  Risk_Score_Category  \n",
       "0        17.5                 High  \n",
       "1         8.0             Moderate  \n",
       "2        19.0                 High  \n",
       "4         5.0             Moderate  \n",
       "7         8.5             Moderate  \n",
       "\n",
       "[5 rows x 24 columns]"
      ]
     },
     "execution_count": 33,
     "metadata": {},
     "output_type": "execute_result"
    }
   ],
   "source": [
    "print(df[['High_Sugar', 'Risk_Score', 'Risk_Score_Category']].head())\n",
    "print(df.dtypes[['High_Sugar', 'Risk_Score_Category']])\n",
    "df.head()"
   ]
  },
  {
   "cell_type": "code",
   "execution_count": 34,
   "id": "7d0db737-7e71-4b56-8674-541461d101c8",
   "metadata": {},
   "outputs": [],
   "source": [
    "def categorize_risk(score):\n",
    "    if score < 5:\n",
    "        return \"Low\"\n",
    "    elif score < 10:\n",
    "        return \"Medium\"\n",
    "    else:\n",
    "        return \"High\"\n",
    "\n",
    "df['Risk_Score_Category'] = df['Risk_Score'].apply(categorize_risk)"
   ]
  },
  {
   "cell_type": "code",
   "execution_count": 35,
   "id": "2f23505f-c6eb-4cda-8e58-e0494e256cb0",
   "metadata": {},
   "outputs": [
    {
     "data": {
      "text/plain": [
       "Risk_Score_Category\n",
       "High      776\n",
       "Low       670\n",
       "Medium    215\n",
       "Name: count, dtype: int64"
      ]
     },
     "execution_count": 35,
     "metadata": {},
     "output_type": "execute_result"
    }
   ],
   "source": [
    "df['Risk_Score_Category'].value_counts()"
   ]
  },
  {
   "cell_type": "code",
   "execution_count": 36,
   "id": "30bf3bdc-4fcf-4a76-9765-875ab313a93f",
   "metadata": {},
   "outputs": [],
   "source": [
    "additive_explanations = {\n",
    "    'e102': 'E102 (Tartrazine): Yellow dye linked to hyperactivity and allergic reactions.',\n",
    "    'e110': 'E110 (Sunset Yellow): Yellow dye linked to hyperactivity and asthma.',\n",
    "    'e122': 'E122 (Azorubine): Red dye linked to hyperactivity in children.',\n",
    "    'e124': 'E124 (Ponceau 4R): Red dye associated with allergic reactions.',\n",
    "    'e211': 'E211 (Sodium benzoate): Preservative linked to hyperactivity in children.',\n",
    "    'e924': 'E924 (Potassium bromate): Flour improver linked to cancer risks.',\n",
    "    'e443': 'E443 (Ammonium phosphatide): Used as an emulsifier, can cause allergic reactions.',\n",
    "    'e400': 'E400 (Alginic acid): A stabilizer and thickening agent, safe for most people.',\n",
    "    'e250': 'E250 (Sodium nitrite): Preservative, linked to cancer risk in high doses.',\n",
    "    'e951': 'E951 (Aspartame): Artificial sweetener, can cause headaches in some people.',\n",
    "    'e320': 'E320 (Butylated hydroxyanisole): Preservative, linked to cancer risks.',\n",
    "    'e321': 'E321 (Butylated hydroxytoluene): Preservative, possible health risks when consumed in high quantities.',\n",
    "    'e330': 'E330 (Citric acid): Naturally occurring acid, safe for consumption.',\n",
    "    'e407': 'E407 (Carrageenan): Used as a thickener, can cause digestive issues in sensitive individuals.',\n",
    "    'e466': 'E466 (Carboxymethyl cellulose): Thickener, can cause digestive problems.',\n",
    "    'e621': 'E621 (Monosodium glutamate, MSG): Flavor enhancer linked to headaches in sensitive individuals.',\n",
    "    'e627': 'E627 (Disodium guanylate): Flavor enhancer, can cause headaches in some people.',\n",
    "    'e631': 'E631 (Disodium inosinate): Flavor enhancer, can cause allergic reactions in sensitive individuals.',\n",
    "    'e950': 'E950 (Acesulfame K): Artificial sweetener, generally considered safe but linked to cancer risk in large doses.',\n",
    "    'e951': 'E951 (Aspartame): Artificial sweetener, can cause headaches in some people.',\n",
    "    'e952': 'E952 (Cyclamate): Artificial sweetener banned in some countries due to potential carcinogenic effects.',\n",
    "    'e954': 'E954 (Saccharin): Artificial sweetener linked to cancer risk.',\n",
    "    'e133': 'E133 (Brilliant Blue FCF): Artificial blue dye, can cause allergic reactions.',\n",
    "    'e132': 'E132 (Indigotine): Artificial blue dye, linked to allergic reactions in some individuals.',\n",
    "    'e143': 'E143 (Green S): Green dye, potentially harmful to sensitive individuals.'\n",
    "}\n"
   ]
  },
  {
   "cell_type": "code",
   "execution_count": 37,
   "id": "042f7475-98fb-46a5-869e-a3da86ec1065",
   "metadata": {},
   "outputs": [
    {
     "data": {
      "text/plain": [
       "0                               [e330, e500, e500ii]\n",
       "1                                                 []\n",
       "2       [e150c, e150d, e212, e330, e338, e950, e951]\n",
       "4                                             [e320]\n",
       "7                                                 []\n",
       "                            ...                     \n",
       "6042                                              []\n",
       "6043                                   [e150d, e322]\n",
       "6045                                              []\n",
       "6047                                              []\n",
       "6048                      [e304, e304ii, e471, e960]\n",
       "Name: Additives, Length: 1661, dtype: object"
      ]
     },
     "execution_count": 37,
     "metadata": {},
     "output_type": "execute_result"
    }
   ],
   "source": [
    "df['Additives']"
   ]
  },
  {
   "cell_type": "code",
   "execution_count": 38,
   "id": "98f3c418-aa52-49a2-bdb5-494fb3f50388",
   "metadata": {},
   "outputs": [
    {
     "data": {
      "text/html": [
       "<div>\n",
       "<style scoped>\n",
       "    .dataframe tbody tr th:only-of-type {\n",
       "        vertical-align: middle;\n",
       "    }\n",
       "\n",
       "    .dataframe tbody tr th {\n",
       "        vertical-align: top;\n",
       "    }\n",
       "\n",
       "    .dataframe thead th {\n",
       "        text-align: right;\n",
       "    }\n",
       "</style>\n",
       "<table border=\"1\" class=\"dataframe\">\n",
       "  <thead>\n",
       "    <tr style=\"text-align: right;\">\n",
       "      <th></th>\n",
       "      <th>Product Name</th>\n",
       "      <th>Additive_Explanations</th>\n",
       "    </tr>\n",
       "  </thead>\n",
       "  <tbody>\n",
       "    <tr>\n",
       "      <th>0</th>\n",
       "      <td>Redbull - Red Bull - 1</td>\n",
       "      <td>[E330 (Citric acid): Naturally occurring acid, safe for consumption.]</td>\n",
       "    </tr>\n",
       "    <tr>\n",
       "      <th>1</th>\n",
       "      <td>Tomato Ketchup - Heinz - 400 ml / 460 g</td>\n",
       "      <td>[]</td>\n",
       "    </tr>\n",
       "    <tr>\n",
       "      <th>2</th>\n",
       "      <td>Diet coke - The Coca-Cola Company - 500 ml</td>\n",
       "      <td>[E330 (Citric acid): Naturally occurring acid, safe for consumption., E950 (Acesulfame K): Artificial sweetener, generally considered safe but linked to cancer risk in large doses., E951 (Aspartame): Artificial sweetener, can cause headaches in some people.]</td>\n",
       "    </tr>\n",
       "    <tr>\n",
       "      <th>4</th>\n",
       "      <td>Corn Flakes - Kellogg's - 1.2 KG</td>\n",
       "      <td>[E320 (Butylated hydroxyanisole): Preservative, linked to cancer risks.]</td>\n",
       "    </tr>\n",
       "    <tr>\n",
       "      <th>7</th>\n",
       "      <td>Dal makhani - Kohinoor - 300g</td>\n",
       "      <td>[]</td>\n",
       "    </tr>\n",
       "  </tbody>\n",
       "</table>\n",
       "</div>"
      ],
      "text/plain": [
       "                                 Product Name  \\\n",
       "0                      Redbull - Red Bull - 1   \n",
       "1     Tomato Ketchup - Heinz - 400 ml / 460 g   \n",
       "2  Diet coke - The Coca-Cola Company - 500 ml   \n",
       "4            Corn Flakes - Kellogg's - 1.2 KG   \n",
       "7               Dal makhani - Kohinoor - 300g   \n",
       "\n",
       "                                                                                                                                                                                                                                                Additive_Explanations  \n",
       "0                                                                                                                                                                                               [E330 (Citric acid): Naturally occurring acid, safe for consumption.]  \n",
       "1                                                                                                                                                                                                                                                                  []  \n",
       "2  [E330 (Citric acid): Naturally occurring acid, safe for consumption., E950 (Acesulfame K): Artificial sweetener, generally considered safe but linked to cancer risk in large doses., E951 (Aspartame): Artificial sweetener, can cause headaches in some people.]  \n",
       "4                                                                                                                                                                                            [E320 (Butylated hydroxyanisole): Preservative, linked to cancer risks.]  \n",
       "7                                                                                                                                                                                                                                                                  []  "
      ]
     },
     "execution_count": 38,
     "metadata": {},
     "output_type": "execute_result"
    }
   ],
   "source": [
    "# Function to map explanations\n",
    "def get_additive_explanations(additives_list):\n",
    "    return [additive_explanations[add] for add in additives_list if add in additive_explanations]\n",
    "\n",
    "# Apply it to the column\n",
    "df['Additive_Explanations'] = df['Additives'].apply(get_additive_explanations)\n",
    "\n",
    "# Show the explanation for the first few products\n",
    "df[['Product Name', 'Additive_Explanations']].head()\n"
   ]
  },
  {
   "cell_type": "code",
   "execution_count": 39,
   "id": "3a4bb488-16fe-492e-8842-b8ce30cd0952",
   "metadata": {},
   "outputs": [],
   "source": [
    "from sklearn.preprocessing import StandardScaler\n",
    "\n",
    "scaler = StandardScaler()\n",
    "df[[ 'High_Salt', 'Ingredient_Complexity','High_Sugar', 'Harmful_Additive_Count']] = scaler.fit_transform(\n",
    "    df[[ 'High_Salt', 'Ingredient_Complexity','High_Sugar', 'Harmful_Additive_Count']]\n",
    ")\n"
   ]
  },
  {
   "cell_type": "code",
   "execution_count": 40,
   "id": "d7a5bf4f-ded4-4d9c-bb31-13a71da5b3b0",
   "metadata": {},
   "outputs": [],
   "source": [
    "from sklearn.model_selection import train_test_split\n",
    "from sklearn.metrics import classification_report, accuracy_score\n",
    "\n",
    "# Select Features & Target\n",
    "# X = df[['Harmful_Additive_Count', 'Num_Ingredients', 'Ingredient_Complexity', 'High_Sugar', 'High_Salt']]\n",
    "X = df[['Harmful_Additive_Count', 'High_Sugar','Ingredient_Complexity', 'High_Salt']]\n",
    "y = df['Risk_Score_Category']\n",
    "\n",
    "# Convert target to numerical labels\n",
    "y = y.map({'Low': 0, 'Medium': 1, 'High': 2})\n",
    "\n",
    "# Train/Test Split\n",
    "X_train, X_test, y_train, y_test = train_test_split(X, y, test_size=0.2, random_state=42)\n"
   ]
  },
  {
   "cell_type": "code",
   "execution_count": 41,
   "id": "83ed1b60-f0f6-438a-83ea-f6e4591dc15e",
   "metadata": {},
   "outputs": [
    {
     "name": "stderr",
     "output_type": "stream",
     "text": [
      "C:\\Users\\hp\\AppData\\Roaming\\Python\\Python311\\site-packages\\xgboost\\core.py:723: FutureWarning: Pass `objective` as keyword args.\n",
      "  warnings.warn(msg, FutureWarning)\n"
     ]
    },
    {
     "name": "stdout",
     "output_type": "stream",
     "text": [
      "Accuracy: 0.8948948948948949\n",
      "              precision    recall  f1-score   support\n",
      "\n",
      "           0       0.92      0.97      0.94       138\n",
      "           1       0.59      0.28      0.38        36\n",
      "           2       0.91      0.97      0.94       159\n",
      "\n",
      "    accuracy                           0.89       333\n",
      "   macro avg       0.80      0.74      0.75       333\n",
      "weighted avg       0.88      0.89      0.88       333\n",
      "\n"
     ]
    }
   ],
   "source": [
    "from xgboost import XGBClassifier\n",
    "# Convert categorical columns to numerical (0/1)\n",
    "categorical_cols = ['High_Sugar', 'High_Salt']  # Add any other categorical columns\n",
    "\n",
    "for col in categorical_cols:\n",
    "    df[col] = df[col].astype(int)\n",
    "\n",
    "scale_pos_weight = len(y_train) / (3 * np.bincount(y_train))\n",
    "xgb_params = {\n",
    "   \"n_estimators\": 300,\n",
    "    \"max_depth\": 6,\n",
    "    \"learning_rate\": 0.1,\n",
    "    \"gamma\": 0.2,\n",
    "    \"min_child_weight\": 5,  # Helps prevent overfitting\n",
    "}\n",
    "\n",
    "\n",
    "xgb_model = XGBClassifier(xgb_params)\n",
    "xgb_model.fit(X_train, y_train)\n",
    "\n",
    "y_pred = xgb_model.predict(X_test)\n",
    "print(\"Accuracy:\", accuracy_score(y_test, y_pred))\n",
    "print(classification_report(y_test, y_pred))"
   ]
  },
  {
   "cell_type": "code",
   "execution_count": 42,
   "id": "aa24b16e-3e38-4ab3-ad2b-ccee681b9d95",
   "metadata": {},
   "outputs": [
    {
     "data": {
      "image/png": "[encoded data removed]",
      "text/plain": [
       "<Figure size 640x480 with 1 Axes>"
      ]
     },
     "metadata": {},
     "output_type": "display_data"
    }
   ],
   "source": [
    "import matplotlib.pyplot as plt\n",
    "from xgboost import plot_importance\n",
    "\n",
    "plot_importance(xgb_model)\n",
    "plt.show()"
   ]
  },
  {
   "cell_type": "code",
   "execution_count": 43,
   "id": "d483e967-041e-4ac1-a5cf-0c6ddbe42339",
   "metadata": {},
   "outputs": [],
   "source": [
    "\n",
    "# Train Model\n",
    "# clf = RandomForestClassifier(n_estimators=200, \n",
    "#                                max_depth=None, \n",
    "#                                min_samples_split=10, \n",
    "#                                class_weight='balanced',  # Adjusts for class imbalance\n",
    "#                                random_state=42)\n",
    "# clf.fit(X_train, y_train)\n",
    "\n",
    "# # Evaluate\n",
    "# y_pred = clf.predict(X_test)\n",
    "# print(\"Accuracy:\", accuracy_score(y_test, y_pred))\n",
    "# print(classification_report(y_test, y_pred))\n"
   ]
  },
  {
   "cell_type": "code",
   "execution_count": 44,
   "id": "d058f3b5-7063-408b-834e-fb91920fdd79",
   "metadata": {},
   "outputs": [
    {
     "name": "stdout",
     "output_type": "stream",
     "text": [
      "\n",
      "5-Fold CV:\n",
      " Accuracy: 0.876 ± 0.010\n",
      " Precision (macro): 0.783 ± 0.026\n",
      " Recall (macro):    0.751 ± 0.034\n",
      "\n",
      "10-Fold CV:\n",
      " Accuracy: 0.876 ± 0.018\n",
      " Precision (macro): 0.783 ± 0.050\n",
      " Recall (macro):    0.750 ± 0.040\n"
     ]
    }
   ],
   "source": [
    "from sklearn.model_selection import cross_validate, StratifiedKFold\n",
    "from sklearn.metrics import make_scorer, accuracy_score, precision_score, recall_score\n",
    "\n",
    "# Define your feature matrix X and target y (numeric 0,1,2 for Low/Medium/High)\n",
    "X = df[['Harmful_Additive_Count', 'High_Sugar','Ingredient_Complexity', 'High_Salt']]\n",
    "y = df['Risk_Score_Category'].map({'Low':0,'Medium':1,'High':2})\n",
    "\n",
    "# Scorers for multiclass (macro-averaged)\n",
    "scoring = {\n",
    "    'accuracy': make_scorer(accuracy_score),\n",
    "    'precision': make_scorer(precision_score, average='macro'),\n",
    "    'recall': make_scorer(recall_score, average='macro')\n",
    "}\n",
    "\n",
    "for folds in (5, 10):\n",
    "    cv = StratifiedKFold(n_splits=folds, shuffle=True, random_state=42)\n",
    "    scores = cross_validate(xgb_model, X, y, cv=cv, scoring=scoring)\n",
    "    print(f\"\\n{folds}-Fold CV:\")\n",
    "    print(f\" Accuracy: {scores['test_accuracy'].mean():.3f} ± {scores['test_accuracy'].std():.3f}\")\n",
    "    print(f\" Precision (macro): {scores['test_precision'].mean():.3f} ± {scores['test_precision'].std():.3f}\")\n",
    "    print(f\" Recall (macro):    {scores['test_recall'].mean():.3f} ± {scores['test_recall'].std():.3f}\")\n"
   ]
  },
  {
   "cell_type": "code",
   "execution_count": 45,
   "id": "1ed1d9d9-b809-4364-8ae1-df38e192c42c",
   "metadata": {},
   "outputs": [],
   "source": [
    "# from sklearn.metrics import confusion_matrix, ConfusionMatrixDisplay\n",
    "# import matplotlib.pyplot as plt\n",
    "\n",
    "# # Assuming X_test, y_test, y_pred already exist\n",
    "# cm = confusion_matrix(y_test, y_pred, labels=[0,1,2])\n",
    "# disp = ConfusionMatrixDisplay(confusion_matrix=cm, display_labels=['Low','Medium','High'])\n",
    "# disp.plot(cmap='Blues')\n",
    "# plt.title(\"Hold‑out Confusion Matrix\")\n",
    "# plt.show()\n",
    "\n",
    "# # Inspect mis‑labeled Medium cases\n",
    "# mis_medium = X_test[(y_test == 1) & (y_pred != 1)]\n",
    "# print(\"Examples of true Medium labeled as\", \n",
    "#       [\"Low\" if p==0 else \"High\" for p in y_pred[(y_test==1)&(y_pred!=1)]])\n"
   ]
  },
  {
   "cell_type": "code",
   "execution_count": 47,
   "id": "abb5c5e0-3f52-4dd0-b111-5f345330f9bf",
   "metadata": {},
   "outputs": [
    {
     "data": {
      "text/plain": [
       "['risk_predictor_model.pkl']"
      ]
     },
     "execution_count": 47,
     "metadata": {},
     "output_type": "execute_result"
    }
   ],
   "source": [
    "import joblib\n",
    "joblib.dump(xgb_model, 'risk_predictor_model.pkl')"
   ]
  },
  {
   "cell_type": "code",
   "execution_count": 48,
   "id": "f5612927-abae-4733-a860-a47a976da316",
   "metadata": {},
   "outputs": [
    {
     "data": {
      "text/plain": [
       "['scaler.pkl']"
      ]
     },
     "execution_count": 48,
     "metadata": {},
     "output_type": "execute_result"
    }
   ],
   "source": [
    "joblib.dump(scaler, 'scaler.pkl')\n"
   ]
  },
  {
   "cell_type": "code",
   "execution_count": 50,
   "id": "0bbb2073-0c2f-4dcf-8b80-9af1c37b26a6",
   "metadata": {},
   "outputs": [
    {
     "data": {
      "text/plain": [
       "['additive_expl_dict.pkl']"
      ]
     },
     "execution_count": 50,
     "metadata": {},
     "output_type": "execute_result"
    }
   ],
   "source": [
    "import joblib\n",
    "\n",
    "joblib.dump(additive_explanations, 'additive_expl_dict.pkl')"
   ]
  },
  {
   "cell_type": "code",
   "execution_count": null,
   "id": "185331c2-c406-4e6c-9593-566016b062f4",
   "metadata": {},
   "outputs": [],
   "source": []
  },
  {
   "cell_type": "code",
   "execution_count": null,
   "id": "1d47d168-a39e-4f19-91e0-620a4ba94356",
   "metadata": {},
   "outputs": [],
   "source": []
  }
 ],
 "metadata": {
  "kernelspec": {
   "display_name": "Python 3 (ipykernel)",
   "language": "python",
   "name": "python3"
  },
  "language_info": {
   "codemirror_mode": {
    "name": "ipython",
    "version": 3
   },
   "file_extension": ".py",
   "mimetype": "text/x-python",
   "name": "python",
   "nbconvert_exporter": "python",
   "pygments_lexer": "ipython3",
   "version": "3.11.7"
  }
 },
 "nbformat": 4,
 "nbformat_minor": 5
}
